{
 "cells": [
  {
   "cell_type": "code",
   "execution_count": null,
   "metadata": {},
   "outputs": [],
   "source": [
    "# we are using keras for this model\n",
    "# import keras\n",
    "# also we are using a tensorflow backend for the model.\n",
    "from keras.models import Sequential"
   ]
  },
  {
   "cell_type": "code",
   "execution_count": null,
   "metadata": {},
   "outputs": [],
   "source": [
    "from keras.layers import Conv2D\n",
    "    # keras convolution operations on 2D databases (images). we would have imported Conv3D if we dealt with videos\n",
    "\n",
    "from keras.layers import Flatten\n",
    "    # converts the 2 dim. arrays into long linear vectors\n",
    "    \n",
    "from keras.layers import MaxPooling2D\n",
    "    # this is the step 2 of the CNN. There are more like MinPooling and MeanPooling.\n",
    "    # We will use MaxPooling for getting the maximum value of pixel in region of interest\n",
    "    \n",
    "from keras.layers import Dense\n",
    "    # This performs the function of the full connection of the neural net, which is step 4 of the CNN"
   ]
  },
  {
   "cell_type": "code",
   "execution_count": null,
   "metadata": {},
   "outputs": [],
   "source": [
    "clsfier = Sequential()"
   ]
  },
  {
   "cell_type": "code",
   "execution_count": null,
   "metadata": {},
   "outputs": [],
   "source": [
    "# convolution function added to the first layer of the neural net\n",
    "# 32 is the number of filters and (3,3) is the shape of the filter\n",
    "# inp shape is the image (64 x axis, 64 y axis, 1 2 3 for R G B respectively)\n",
    "clsfier.add(Conv2D(32, (3, 3), input_shape = (64, 64, 3), activation = 'relu'))\n"
   ]
  },
  {
   "cell_type": "code",
   "execution_count": null,
   "metadata": {},
   "outputs": [],
   "source": [
    "# we must reduce the image size for easier computational tasks\n",
    "clsfier.add(MaxPooling2D(pool_size = (2, 2)))"
   ]
  },
  {
   "cell_type": "code",
   "execution_count": null,
   "metadata": {},
   "outputs": [],
   "source": [
    "# Flattening it to make a long linear vector\n",
    "# then adding the number of units to the dense function is the instinctive part which can be optimized only through putting diff numbers (commonly a power of 2 is taken)\n",
    "clsfier.add(Flatten())\n",
    "clsfier.add(Dense(units = 128, activation = 'relu'))"
   ]
  },
  {
   "cell_type": "code",
   "execution_count": null,
   "metadata": {},
   "outputs": [],
   "source": [
    "# adding this final layer to  display the binary result through a sigmoid\n",
    "# this is called the output layer\n",
    "clsfier.add(Dense(units = 1, activation = 'sigmoid'))"
   ]
  },
  {
   "cell_type": "code",
   "execution_count": null,
   "metadata": {},
   "outputs": [],
   "source": [
    "clsfier.compile(optimizer = 'adam', loss = 'binary_crossentropy', metrics = ['accuracy'])\n",
    "# importing libraries - 2\n",
    "from keras.preprocessing.image import ImageDataGenerator"
   ]
  },
  {
   "cell_type": "code",
   "execution_count": null,
   "metadata": {},
   "outputs": [],
   "source": [
    "# Training model:\n",
    "train_datagen = ImageDataGenerator(rescale = 1./255,\n",
    "shear_range = 0.2,\n",
    "zoom_range = 0.2,\n",
    "horizontal_flip = True)\n",
    "\n",
    "test_datagen = ImageDataGenerator(rescale = 1./255)\n",
    "\n",
    "training_set = train_datagen.flow_from_directory('/home/siddhant/Downloads/Datasets/Tomato Leaves/Training',\n",
    "target_size = (64, 64),\n",
    "batch_size = 32,\n",
    "class_mode = 'binary')\n",
    "test_set = test_datagen.flow_from_directory('/home/siddhant/Downloads/Datasets/Tomato Leaves/Testing',\n",
    "target_size = (64, 64),\n",
    "batch_size = 32,\n",
    "class_mode = 'binary')"
   ]
  },
  {
   "cell_type": "code",
   "execution_count": null,
   "metadata": {},
   "outputs": [],
   "source": [
    "# importing libraries - 3\n",
    "from PIL import ImageFile\n",
    "ImageFile.LOAD_TRUNCATED_IMAGES = True"
   ]
  },
  {
   "cell_type": "code",
   "execution_count": null,
   "metadata": {},
   "outputs": [],
   "source": [
    "# fitting the classifier\n",
    "clsfier.fit_generator(training_set,\n",
    "steps_per_epoch = 592,\n",
    "epochs = 1,\n",
    "validation_data = test_set,\n",
    "validation_steps = 2000)"
   ]
  },
  {
   "cell_type": "code",
   "execution_count": null,
   "metadata": {},
   "outputs": [],
   "source": [
    "# now lets summaries the results:\n",
    "clsfier.summary()"
   ]
  },
  {
   "cell_type": "code",
   "execution_count": null,
   "metadata": {},
   "outputs": [],
   "source": [
    "# importing librries - 4\n",
    "import numpy as np\n",
    "from keras.preprocessing import image\n",
    "# testing the results: \n",
    "test_image = image.load_img('/home/siddhant/Downloads/Datasets/Tomato Leaves/Training/healthy/h47.png', target_size = (64, 64))\n",
    "test_image = image.img_to_array(test_image)\n",
    "test_image = np.expand_dims(test_image, axis = 0)\n",
    "result = clf.predict(test_image)\n",
    "training_set.class_indices\n",
    "if result[0][0] == 1:\n",
    "    prediction = 'Tomato'\n",
    "else:\n",
    "    prediction = 'Not Tomato'\n",
    "print(prediction)"
   ]
  }
 ],
 "metadata": {
  "kernelspec": {
   "display_name": "Python 3",
   "language": "python",
   "name": "python3"
  },
  "language_info": {
   "codemirror_mode": {
    "name": "ipython",
    "version": 3
   },
   "file_extension": ".py",
   "mimetype": "text/x-python",
   "name": "python",
   "nbconvert_exporter": "python",
   "pygments_lexer": "ipython3",
   "version": "3.11.3"
  }
 },
 "nbformat": 4,
 "nbformat_minor": 2
}
