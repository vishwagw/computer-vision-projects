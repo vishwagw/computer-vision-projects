{
 "cells": [
  {
   "cell_type": "code",
   "execution_count": 1,
   "metadata": {},
   "outputs": [],
   "source": [
    "#import libraries\n",
    "import numpy as np\n",
    "import matplotlib.pyplot as plt\n",
    "import pandas as pd\n",
    "%matplotlib inline"
   ]
  },
  {
   "cell_type": "code",
   "execution_count": null,
   "metadata": {},
   "outputs": [],
   "source": [
    "#load input data:\n",
    "ds1 = pd.read_csv('')\n",
    "ds2 = pd.read_csv('')\n",
    "ds3 = pd.read_csv('')\n"
   ]
  },
  {
   "cell_type": "code",
   "execution_count": null,
   "metadata": {},
   "outputs": [],
   "source": [
    "# plotting figure - 1\n",
    "ds1.plot('Age', ' Winter',style = '.')"
   ]
  },
  {
   "cell_type": "code",
   "execution_count": null,
   "metadata": {},
   "outputs": [],
   "source": [
    "y1 = ds1.iloc[:, 0:1].values \n",
    "X1 = ds1.iloc[:, 1:2].values \n",
    "y2 = ds2.iloc[:, 0:1].values \n",
    "X2 = ds2.iloc[:, 1:2].values \n",
    "y3 = ds3.iloc[:, 0:1].values \n",
    "X3 = ds3.iloc[:, 1:2].values"
   ]
  },
  {
   "cell_type": "code",
   "execution_count": 3,
   "metadata": {},
   "outputs": [],
   "source": [
    "# import linearregressio algorithm from sklearn suite:\n",
    "from sklearn.linear_model import LinearRegression\n",
    "lin1 = LinearRegression() \n",
    "lin2 = LinearRegression() \n",
    "lin3 = LinearRegression() "
   ]
  },
  {
   "cell_type": "code",
   "execution_count": null,
   "metadata": {},
   "outputs": [],
   "source": [
    "# fitting:\n",
    "lin1.fit(X1, y1)\n",
    "lin2.fit(X2, y2)\n",
    "lin3.fit(X3, y3)"
   ]
  },
  {
   "cell_type": "code",
   "execution_count": null,
   "metadata": {},
   "outputs": [],
   "source": [
    "# visual outpur for LR algorithm results:\n",
    "plt.scatter(X1, y1, color = 'blue') \n",
    "  \n",
    "plt.plot(X1, lin1.predict(X1), color = 'red') \n",
    "plt.title('Linear Regression') \n",
    "plt.xlabel('Chlorophyll Content in Winter') \n",
    "plt.ylabel('Age') \n",
    "  \n",
    "plt.show() "
   ]
  },
  {
   "cell_type": "code",
   "execution_count": null,
   "metadata": {},
   "outputs": [],
   "source": [
    "# printing output:\n",
    "print(\"Enter the season in which the leaf is taken: \")\n",
    "print(\"Enter 1 for Winter, 2 for Early Spring, 3 for Late Spring\")\n",
    "opt = int(input())"
   ]
  },
  {
   "cell_type": "code",
   "execution_count": null,
   "metadata": {},
   "outputs": [],
   "source": [
    "chloro_cont = 340\n",
    "if (opt == 1):\n",
    "    print(lin1.predict(chloro_cont))\n",
    "elif (opt == 2):\n",
    "    print(lin2.predict(chloro_cont))\n",
    "elif (opt == 3):\n",
    "    print(lin3.predict(chloro_cont))"
   ]
  }
 ],
 "metadata": {
  "kernelspec": {
   "display_name": "Python 3",
   "language": "python",
   "name": "python3"
  },
  "language_info": {
   "codemirror_mode": {
    "name": "ipython",
    "version": 3
   },
   "file_extension": ".py",
   "mimetype": "text/x-python",
   "name": "python",
   "nbconvert_exporter": "python",
   "pygments_lexer": "ipython3",
   "version": "3.11.3"
  }
 },
 "nbformat": 4,
 "nbformat_minor": 2
}
