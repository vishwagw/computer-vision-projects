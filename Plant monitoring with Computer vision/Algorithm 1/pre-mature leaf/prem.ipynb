{
 "cells": [
  {
   "cell_type": "markdown",
   "metadata": {},
   "source": [
    "This model is built for premature leaf age prediction"
   ]
  },
  {
   "cell_type": "code",
   "execution_count": 1,
   "metadata": {},
   "outputs": [],
   "source": [
    "# import libraries - 1\n",
    "import numpy as np\n",
    "import pandas as pd\n",
    "import matplotlib.pyplot as plt\n",
    "%matplotlib inline"
   ]
  },
  {
   "cell_type": "code",
   "execution_count": null,
   "metadata": {},
   "outputs": [],
   "source": [
    "ds = []\n",
    "# loading data sets: (add file locaton inside brackets)\n",
    "ds.append(pd.read_csv(''))\n",
    "ds.append(pd.read_csv(''))\n",
    "ds.append(pd.read_csv(''))\n",
    "ds.append(pd.read_csv(''))\n",
    "ds.append(pd.read_csv(''))\n",
    "ds.append(pd.read_csv(''))\n",
    "ds.append(pd.read_csv(''))\n",
    "ds.append(pd.read_csv(''))\n",
    "ds.append(pd.read_csv(''))"
   ]
  },
  {
   "cell_type": "code",
   "execution_count": null,
   "metadata": {},
   "outputs": [],
   "source": [
    "ds[0].plot('Length', 'Age',style = '.')"
   ]
  },
  {
   "cell_type": "code",
   "execution_count": null,
   "metadata": {},
   "outputs": [],
   "source": [
    "ds[3].plot('Length', 'Age',style = '.')"
   ]
  },
  {
   "cell_type": "code",
   "execution_count": null,
   "metadata": {},
   "outputs": [],
   "source": [
    "ds[6].plot('Length', 'Age',style = '.')"
   ]
  },
  {
   "cell_type": "code",
   "execution_count": null,
   "metadata": {},
   "outputs": [],
   "source": [
    "ds[8].plot('Length', 'Age',style = '.')"
   ]
  },
  {
   "cell_type": "code",
   "execution_count": null,
   "metadata": {},
   "outputs": [],
   "source": [
    "# import libraries - 2\n",
    "# import linear regression ML model.\n",
    "# import preprocesssing datasst.\n",
    "from sklearn.preprocessing import PolynomialFeatures \n",
    "from sklearn.linear_model import LinearRegression"
   ]
  },
  {
   "cell_type": "code",
   "execution_count": null,
   "metadata": {},
   "outputs": [],
   "source": [
    "# define x and y\n",
    "X = []\n",
    "y = []\n",
    "for i in range(0, 9):\n",
    "    y.append(da[i].iloc[:, 0:1].values)\n",
    "    X.append(da[i].iloc[:, 1:2].values)"
   ]
  },
  {
   "cell_type": "code",
   "execution_count": null,
   "metadata": {},
   "outputs": [],
   "source": [
    "# enter number\n",
    "num = int(input(\"Enter the succession of the leaf from the bottom\"))\n",
    "num = num - 1"
   ]
  },
  {
   "cell_type": "code",
   "execution_count": null,
   "metadata": {},
   "outputs": [],
   "source": [
    "poly = PolynomialFeatures(degree = 3) \n",
    "X_poly = poly.fit_transform(X[num]) \n",
    "  \n",
    "poly.fit(X_poly, y[num]) \n",
    "lin2 = LinearRegression() \n",
    "lin2.fit(X_poly, y[num])"
   ]
  },
  {
   "cell_type": "code",
   "execution_count": null,
   "metadata": {},
   "outputs": [],
   "source": [
    "# plotting and visualizing the results:\n",
    "plt.scatter(X[num], y[num], color = 'blue') \n",
    "  \n",
    "plt.plot(X[num], lin2.predict(poly.fit_transform(X[num])), color = 'red') \n",
    "plt.title('Polynomial Regression') \n",
    "plt.xlabel('Length') \n",
    "plt.ylabel('Age') \n",
    "  \n",
    "plt.show()"
   ]
  },
  {
   "cell_type": "code",
   "execution_count": null,
   "metadata": {},
   "outputs": [],
   "source": [
    "lin2.predict(poly.fit_transform(40))"
   ]
  }
 ],
 "metadata": {
  "kernelspec": {
   "display_name": "Python 3",
   "language": "python",
   "name": "python3"
  },
  "language_info": {
   "codemirror_mode": {
    "name": "ipython",
    "version": 3
   },
   "file_extension": ".py",
   "mimetype": "text/x-python",
   "name": "python",
   "nbconvert_exporter": "python",
   "pygments_lexer": "ipython3",
   "version": "3.11.3"
  }
 },
 "nbformat": 4,
 "nbformat_minor": 2
}
